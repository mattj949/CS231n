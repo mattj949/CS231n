{
 "cells": [
  {
   "cell_type": "code",
   "execution_count": 78,
   "id": "8752be54-b9f5-4636-aab2-d2194b9e4c18",
   "metadata": {},
   "outputs": [],
   "source": [
    "import pandas as pd\n",
    "import numpy as np\n",
    "from matplotlib import pyplot as plt\n",
    "from Utils import *\n",
    "from numpy import nan\n",
    "from scipy.interpolate import griddata\n",
    "import scipy.interpolate as interp\n",
    "from scipy.interpolate import LinearNDInterpolator"
   ]
  },
  {
   "cell_type": "code",
   "execution_count": 35,
   "id": "13187641-b2ca-446f-8ae1-371d10f93497",
   "metadata": {},
   "outputs": [],
   "source": [
    "# S&P 500 CUSIP: 64881510\n",
    "\n",
    "#data = pd.read_csv('data/APPL_vol_surface.csv')\n",
    "\n",
    "#SELECT YOUR DATA HERE\n",
    "data = pd.read_csv('data/SPX_vol_surface_FULL.csv')"
   ]
  },
  {
   "cell_type": "code",
   "execution_count": 36,
   "id": "6f1f06e7",
   "metadata": {},
   "outputs": [
    {
     "data": {
      "text/html": [
       "<div>\n",
       "<style scoped>\n",
       "    .dataframe tbody tr th:only-of-type {\n",
       "        vertical-align: middle;\n",
       "    }\n",
       "\n",
       "    .dataframe tbody tr th {\n",
       "        vertical-align: top;\n",
       "    }\n",
       "\n",
       "    .dataframe thead th {\n",
       "        text-align: right;\n",
       "    }\n",
       "</style>\n",
       "<table border=\"1\" class=\"dataframe\">\n",
       "  <thead>\n",
       "    <tr style=\"text-align: right;\">\n",
       "      <th></th>\n",
       "      <th>secid</th>\n",
       "      <th>date</th>\n",
       "      <th>days</th>\n",
       "      <th>delta</th>\n",
       "      <th>impl_volatility</th>\n",
       "      <th>impl_strike</th>\n",
       "      <th>impl_premium</th>\n",
       "      <th>dispersion</th>\n",
       "      <th>cp_flag</th>\n",
       "      <th>cusip</th>\n",
       "      <th>ticker</th>\n",
       "      <th>index_flag</th>\n",
       "    </tr>\n",
       "  </thead>\n",
       "  <tbody>\n",
       "    <tr>\n",
       "      <th>0</th>\n",
       "      <td>108105</td>\n",
       "      <td>19960104</td>\n",
       "      <td>10</td>\n",
       "      <td>-90</td>\n",
       "      <td>NaN</td>\n",
       "      <td>0.000</td>\n",
       "      <td>0.0000</td>\n",
       "      <td>NaN</td>\n",
       "      <td>P</td>\n",
       "      <td>64881510</td>\n",
       "      <td>SPX</td>\n",
       "      <td>1</td>\n",
       "    </tr>\n",
       "    <tr>\n",
       "      <th>1</th>\n",
       "      <td>108105</td>\n",
       "      <td>19960104</td>\n",
       "      <td>10</td>\n",
       "      <td>-85</td>\n",
       "      <td>NaN</td>\n",
       "      <td>0.000</td>\n",
       "      <td>0.0000</td>\n",
       "      <td>NaN</td>\n",
       "      <td>P</td>\n",
       "      <td>64881510</td>\n",
       "      <td>SPX</td>\n",
       "      <td>1</td>\n",
       "    </tr>\n",
       "    <tr>\n",
       "      <th>2</th>\n",
       "      <td>108105</td>\n",
       "      <td>19960104</td>\n",
       "      <td>10</td>\n",
       "      <td>-80</td>\n",
       "      <td>NaN</td>\n",
       "      <td>0.000</td>\n",
       "      <td>0.0000</td>\n",
       "      <td>NaN</td>\n",
       "      <td>P</td>\n",
       "      <td>64881510</td>\n",
       "      <td>SPX</td>\n",
       "      <td>1</td>\n",
       "    </tr>\n",
       "    <tr>\n",
       "      <th>3</th>\n",
       "      <td>108105</td>\n",
       "      <td>19960104</td>\n",
       "      <td>10</td>\n",
       "      <td>-75</td>\n",
       "      <td>NaN</td>\n",
       "      <td>0.000</td>\n",
       "      <td>0.0000</td>\n",
       "      <td>NaN</td>\n",
       "      <td>P</td>\n",
       "      <td>64881510</td>\n",
       "      <td>SPX</td>\n",
       "      <td>1</td>\n",
       "    </tr>\n",
       "    <tr>\n",
       "      <th>4</th>\n",
       "      <td>108105</td>\n",
       "      <td>19960104</td>\n",
       "      <td>10</td>\n",
       "      <td>-70</td>\n",
       "      <td>NaN</td>\n",
       "      <td>0.000</td>\n",
       "      <td>0.0000</td>\n",
       "      <td>NaN</td>\n",
       "      <td>P</td>\n",
       "      <td>64881510</td>\n",
       "      <td>SPX</td>\n",
       "      <td>1</td>\n",
       "    </tr>\n",
       "    <tr>\n",
       "      <th>...</th>\n",
       "      <td>...</td>\n",
       "      <td>...</td>\n",
       "      <td>...</td>\n",
       "      <td>...</td>\n",
       "      <td>...</td>\n",
       "      <td>...</td>\n",
       "      <td>...</td>\n",
       "      <td>...</td>\n",
       "      <td>...</td>\n",
       "      <td>...</td>\n",
       "      <td>...</td>\n",
       "      <td>...</td>\n",
       "    </tr>\n",
       "    <tr>\n",
       "      <th>2447825</th>\n",
       "      <td>108105</td>\n",
       "      <td>20211231</td>\n",
       "      <td>730</td>\n",
       "      <td>70</td>\n",
       "      <td>0.250166</td>\n",
       "      <td>4117.904</td>\n",
       "      <td>963.0674</td>\n",
       "      <td>0.021641</td>\n",
       "      <td>C</td>\n",
       "      <td>64881510</td>\n",
       "      <td>SPX</td>\n",
       "      <td>1</td>\n",
       "    </tr>\n",
       "    <tr>\n",
       "      <th>2447826</th>\n",
       "      <td>108105</td>\n",
       "      <td>20211231</td>\n",
       "      <td>730</td>\n",
       "      <td>75</td>\n",
       "      <td>0.265997</td>\n",
       "      <td>3860.017</td>\n",
       "      <td>1151.8750</td>\n",
       "      <td>0.025721</td>\n",
       "      <td>C</td>\n",
       "      <td>64881510</td>\n",
       "      <td>SPX</td>\n",
       "      <td>1</td>\n",
       "    </tr>\n",
       "    <tr>\n",
       "      <th>2447827</th>\n",
       "      <td>108105</td>\n",
       "      <td>20211231</td>\n",
       "      <td>730</td>\n",
       "      <td>80</td>\n",
       "      <td>0.283967</td>\n",
       "      <td>3558.327</td>\n",
       "      <td>1383.1930</td>\n",
       "      <td>0.031471</td>\n",
       "      <td>C</td>\n",
       "      <td>64881510</td>\n",
       "      <td>SPX</td>\n",
       "      <td>1</td>\n",
       "    </tr>\n",
       "    <tr>\n",
       "      <th>2447828</th>\n",
       "      <td>108105</td>\n",
       "      <td>20211231</td>\n",
       "      <td>730</td>\n",
       "      <td>85</td>\n",
       "      <td>0.303781</td>\n",
       "      <td>3196.287</td>\n",
       "      <td>1672.4860</td>\n",
       "      <td>0.039406</td>\n",
       "      <td>C</td>\n",
       "      <td>64881510</td>\n",
       "      <td>SPX</td>\n",
       "      <td>1</td>\n",
       "    </tr>\n",
       "    <tr>\n",
       "      <th>2447829</th>\n",
       "      <td>108105</td>\n",
       "      <td>20211231</td>\n",
       "      <td>730</td>\n",
       "      <td>90</td>\n",
       "      <td>0.325091</td>\n",
       "      <td>2739.703</td>\n",
       "      <td>2053.8950</td>\n",
       "      <td>0.049608</td>\n",
       "      <td>C</td>\n",
       "      <td>64881510</td>\n",
       "      <td>SPX</td>\n",
       "      <td>1</td>\n",
       "    </tr>\n",
       "  </tbody>\n",
       "</table>\n",
       "<p>2447830 rows × 12 columns</p>\n",
       "</div>"
      ],
      "text/plain": [
       "          secid      date  days  delta  impl_volatility  impl_strike  \\\n",
       "0        108105  19960104    10    -90              NaN        0.000   \n",
       "1        108105  19960104    10    -85              NaN        0.000   \n",
       "2        108105  19960104    10    -80              NaN        0.000   \n",
       "3        108105  19960104    10    -75              NaN        0.000   \n",
       "4        108105  19960104    10    -70              NaN        0.000   \n",
       "...         ...       ...   ...    ...              ...          ...   \n",
       "2447825  108105  20211231   730     70         0.250166     4117.904   \n",
       "2447826  108105  20211231   730     75         0.265997     3860.017   \n",
       "2447827  108105  20211231   730     80         0.283967     3558.327   \n",
       "2447828  108105  20211231   730     85         0.303781     3196.287   \n",
       "2447829  108105  20211231   730     90         0.325091     2739.703   \n",
       "\n",
       "         impl_premium  dispersion cp_flag     cusip ticker  index_flag  \n",
       "0              0.0000         NaN       P  64881510    SPX           1  \n",
       "1              0.0000         NaN       P  64881510    SPX           1  \n",
       "2              0.0000         NaN       P  64881510    SPX           1  \n",
       "3              0.0000         NaN       P  64881510    SPX           1  \n",
       "4              0.0000         NaN       P  64881510    SPX           1  \n",
       "...               ...         ...     ...       ...    ...         ...  \n",
       "2447825      963.0674    0.021641       C  64881510    SPX           1  \n",
       "2447826     1151.8750    0.025721       C  64881510    SPX           1  \n",
       "2447827     1383.1930    0.031471       C  64881510    SPX           1  \n",
       "2447828     1672.4860    0.039406       C  64881510    SPX           1  \n",
       "2447829     2053.8950    0.049608       C  64881510    SPX           1  \n",
       "\n",
       "[2447830 rows x 12 columns]"
      ]
     },
     "execution_count": 36,
     "metadata": {},
     "output_type": "execute_result"
    }
   ],
   "source": [
    "data"
   ]
  },
  {
   "cell_type": "code",
   "execution_count": 37,
   "id": "e18e404b-6196-437d-ad9b-0d771c9862e4",
   "metadata": {},
   "outputs": [],
   "source": [
    "max_ivol = data.impl_volatility.max()"
   ]
  },
  {
   "cell_type": "code",
   "execution_count": 38,
   "id": "79548333-3ee2-420f-b041-b34ceda20d7e",
   "metadata": {},
   "outputs": [
    {
     "name": "stdout",
     "output_type": "stream",
     "text": [
      "Max Implied Volatility in dataset: 1.282831\n"
     ]
    }
   ],
   "source": [
    "print(\"Max Implied Volatility in dataset:\", max_ivol)"
   ]
  },
  {
   "cell_type": "code",
   "execution_count": 39,
   "id": "273fd50a-4b74-42ec-bcba-b2a0164a1d0d",
   "metadata": {},
   "outputs": [],
   "source": [
    "unique_dates = data.date.unique()\n",
    "unique_deltas = data.delta.unique()\n",
    "unique_tenors = data.days.unique()"
   ]
  },
  {
   "cell_type": "code",
   "execution_count": 40,
   "id": "fe7c7078-4102-4289-9756-dea184e733f7",
   "metadata": {},
   "outputs": [],
   "source": [
    "#data = data.loc[data.cp_flag == 'C']\n",
    "\n",
    "filtered_data = data.loc[data.date == unique_dates[1]]\n",
    "\n",
    "x = filtered_data.days\n",
    "y = filtered_data.delta\n",
    "z = filtered_data.impl_volatility"
   ]
  },
  {
   "cell_type": "markdown",
   "id": "73ab543c-140a-48f7-8675-39841bfd5b1d",
   "metadata": {},
   "source": [
    "#### For the record, call options have positive delta, and put options have negative delta. The ridge in the middle is where data from calls is joined with data from puts, as we go from a positive delta to a negative delta."
   ]
  },
  {
   "cell_type": "code",
   "execution_count": 41,
   "id": "a1fde66d-6daf-4738-ab03-e15fc3c8b239",
   "metadata": {},
   "outputs": [
    {
     "data": {
      "text/plain": [
       "Text(0.5, 0, 'implied vol')"
      ]
     },
     "execution_count": 41,
     "metadata": {},
     "output_type": "execute_result"
    },
    {
     "data": {
      "image/png": "[encoded data removed]",
      "text/plain": [
       "<Figure size 1440x720 with 1 Axes>"
      ]
     },
     "metadata": {
      "needs_background": "light"
     },
     "output_type": "display_data"
    }
   ],
   "source": [
    "plt.figure(figsize=(20,10))\n",
    "ax = plt.axes(projection='3d')\n",
    "ax.plot_trisurf(x, y, z,\n",
    "                cmap='viridis', edgecolor='none');\n",
    "\n",
    "ax.set_xlabel('tenor')\n",
    "ax.set_ylabel('delta')\n",
    "ax.set_zlabel('implied vol')"
   ]
  },
  {
   "cell_type": "markdown",
   "id": "4e043e4e-fa53-4675-9caf-fcd327a1ac62",
   "metadata": {},
   "source": [
    "## Process data into a matrix... to plug into a CNN and skip the visualization step"
   ]
  },
  {
   "cell_type": "code",
   "execution_count": 42,
   "id": "6b7e7bd6-63bb-45ea-8b17-3158c1030aaf",
   "metadata": {},
   "outputs": [
    {
     "name": "stdout",
     "output_type": "stream",
     "text": [
      "Unique Dates: 6545\n",
      "Unique Deltas: 34\n",
      "Unique Tenors: 11\n"
     ]
    }
   ],
   "source": [
    "num_dates = unique_dates.shape[0]\n",
    "num_deltas = unique_deltas.shape[0]\n",
    "num_tenors = unique_tenors.shape[0]\n",
    "\n",
    "print(\"Unique Dates:\", num_dates)\n",
    "print(\"Unique Deltas:\", num_deltas)\n",
    "print(\"Unique Tenors:\", num_tenors)"
   ]
  },
  {
   "cell_type": "code",
   "execution_count": 43,
   "id": "a61f335c",
   "metadata": {},
   "outputs": [
    {
     "data": {
      "text/html": [
       "<div>\n",
       "<style scoped>\n",
       "    .dataframe tbody tr th:only-of-type {\n",
       "        vertical-align: middle;\n",
       "    }\n",
       "\n",
       "    .dataframe tbody tr th {\n",
       "        vertical-align: top;\n",
       "    }\n",
       "\n",
       "    .dataframe thead th {\n",
       "        text-align: right;\n",
       "    }\n",
       "</style>\n",
       "<table border=\"1\" class=\"dataframe\">\n",
       "  <thead>\n",
       "    <tr style=\"text-align: right;\">\n",
       "      <th></th>\n",
       "      <th>secid</th>\n",
       "      <th>date</th>\n",
       "      <th>days</th>\n",
       "      <th>delta</th>\n",
       "      <th>impl_volatility</th>\n",
       "      <th>impl_strike</th>\n",
       "      <th>impl_premium</th>\n",
       "      <th>dispersion</th>\n",
       "      <th>cp_flag</th>\n",
       "      <th>cusip</th>\n",
       "      <th>ticker</th>\n",
       "      <th>index_flag</th>\n",
       "    </tr>\n",
       "  </thead>\n",
       "  <tbody>\n",
       "    <tr>\n",
       "      <th>0</th>\n",
       "      <td>108105</td>\n",
       "      <td>19960104</td>\n",
       "      <td>10</td>\n",
       "      <td>-90</td>\n",
       "      <td>NaN</td>\n",
       "      <td>0.0</td>\n",
       "      <td>0.0</td>\n",
       "      <td>NaN</td>\n",
       "      <td>P</td>\n",
       "      <td>64881510</td>\n",
       "      <td>SPX</td>\n",
       "      <td>1</td>\n",
       "    </tr>\n",
       "    <tr>\n",
       "      <th>1</th>\n",
       "      <td>108105</td>\n",
       "      <td>19960104</td>\n",
       "      <td>10</td>\n",
       "      <td>-85</td>\n",
       "      <td>NaN</td>\n",
       "      <td>0.0</td>\n",
       "      <td>0.0</td>\n",
       "      <td>NaN</td>\n",
       "      <td>P</td>\n",
       "      <td>64881510</td>\n",
       "      <td>SPX</td>\n",
       "      <td>1</td>\n",
       "    </tr>\n",
       "    <tr>\n",
       "      <th>2</th>\n",
       "      <td>108105</td>\n",
       "      <td>19960104</td>\n",
       "      <td>10</td>\n",
       "      <td>-80</td>\n",
       "      <td>NaN</td>\n",
       "      <td>0.0</td>\n",
       "      <td>0.0</td>\n",
       "      <td>NaN</td>\n",
       "      <td>P</td>\n",
       "      <td>64881510</td>\n",
       "      <td>SPX</td>\n",
       "      <td>1</td>\n",
       "    </tr>\n",
       "    <tr>\n",
       "      <th>3</th>\n",
       "      <td>108105</td>\n",
       "      <td>19960104</td>\n",
       "      <td>10</td>\n",
       "      <td>-75</td>\n",
       "      <td>NaN</td>\n",
       "      <td>0.0</td>\n",
       "      <td>0.0</td>\n",
       "      <td>NaN</td>\n",
       "      <td>P</td>\n",
       "      <td>64881510</td>\n",
       "      <td>SPX</td>\n",
       "      <td>1</td>\n",
       "    </tr>\n",
       "    <tr>\n",
       "      <th>4</th>\n",
       "      <td>108105</td>\n",
       "      <td>19960104</td>\n",
       "      <td>10</td>\n",
       "      <td>-70</td>\n",
       "      <td>NaN</td>\n",
       "      <td>0.0</td>\n",
       "      <td>0.0</td>\n",
       "      <td>NaN</td>\n",
       "      <td>P</td>\n",
       "      <td>64881510</td>\n",
       "      <td>SPX</td>\n",
       "      <td>1</td>\n",
       "    </tr>\n",
       "    <tr>\n",
       "      <th>5</th>\n",
       "      <td>108105</td>\n",
       "      <td>19960104</td>\n",
       "      <td>10</td>\n",
       "      <td>-65</td>\n",
       "      <td>NaN</td>\n",
       "      <td>0.0</td>\n",
       "      <td>0.0</td>\n",
       "      <td>NaN</td>\n",
       "      <td>P</td>\n",
       "      <td>64881510</td>\n",
       "      <td>SPX</td>\n",
       "      <td>1</td>\n",
       "    </tr>\n",
       "    <tr>\n",
       "      <th>6</th>\n",
       "      <td>108105</td>\n",
       "      <td>19960104</td>\n",
       "      <td>10</td>\n",
       "      <td>-60</td>\n",
       "      <td>NaN</td>\n",
       "      <td>0.0</td>\n",
       "      <td>0.0</td>\n",
       "      <td>NaN</td>\n",
       "      <td>P</td>\n",
       "      <td>64881510</td>\n",
       "      <td>SPX</td>\n",
       "      <td>1</td>\n",
       "    </tr>\n",
       "    <tr>\n",
       "      <th>7</th>\n",
       "      <td>108105</td>\n",
       "      <td>19960104</td>\n",
       "      <td>10</td>\n",
       "      <td>-55</td>\n",
       "      <td>NaN</td>\n",
       "      <td>0.0</td>\n",
       "      <td>0.0</td>\n",
       "      <td>NaN</td>\n",
       "      <td>P</td>\n",
       "      <td>64881510</td>\n",
       "      <td>SPX</td>\n",
       "      <td>1</td>\n",
       "    </tr>\n",
       "    <tr>\n",
       "      <th>8</th>\n",
       "      <td>108105</td>\n",
       "      <td>19960104</td>\n",
       "      <td>10</td>\n",
       "      <td>-50</td>\n",
       "      <td>NaN</td>\n",
       "      <td>0.0</td>\n",
       "      <td>0.0</td>\n",
       "      <td>NaN</td>\n",
       "      <td>P</td>\n",
       "      <td>64881510</td>\n",
       "      <td>SPX</td>\n",
       "      <td>1</td>\n",
       "    </tr>\n",
       "    <tr>\n",
       "      <th>9</th>\n",
       "      <td>108105</td>\n",
       "      <td>19960104</td>\n",
       "      <td>10</td>\n",
       "      <td>-45</td>\n",
       "      <td>NaN</td>\n",
       "      <td>0.0</td>\n",
       "      <td>0.0</td>\n",
       "      <td>NaN</td>\n",
       "      <td>P</td>\n",
       "      <td>64881510</td>\n",
       "      <td>SPX</td>\n",
       "      <td>1</td>\n",
       "    </tr>\n",
       "  </tbody>\n",
       "</table>\n",
       "</div>"
      ],
      "text/plain": [
       "    secid      date  days  delta  impl_volatility  impl_strike  impl_premium  \\\n",
       "0  108105  19960104    10    -90              NaN          0.0           0.0   \n",
       "1  108105  19960104    10    -85              NaN          0.0           0.0   \n",
       "2  108105  19960104    10    -80              NaN          0.0           0.0   \n",
       "3  108105  19960104    10    -75              NaN          0.0           0.0   \n",
       "4  108105  19960104    10    -70              NaN          0.0           0.0   \n",
       "5  108105  19960104    10    -65              NaN          0.0           0.0   \n",
       "6  108105  19960104    10    -60              NaN          0.0           0.0   \n",
       "7  108105  19960104    10    -55              NaN          0.0           0.0   \n",
       "8  108105  19960104    10    -50              NaN          0.0           0.0   \n",
       "9  108105  19960104    10    -45              NaN          0.0           0.0   \n",
       "\n",
       "   dispersion cp_flag     cusip ticker  index_flag  \n",
       "0         NaN       P  64881510    SPX           1  \n",
       "1         NaN       P  64881510    SPX           1  \n",
       "2         NaN       P  64881510    SPX           1  \n",
       "3         NaN       P  64881510    SPX           1  \n",
       "4         NaN       P  64881510    SPX           1  \n",
       "5         NaN       P  64881510    SPX           1  \n",
       "6         NaN       P  64881510    SPX           1  \n",
       "7         NaN       P  64881510    SPX           1  \n",
       "8         NaN       P  64881510    SPX           1  \n",
       "9         NaN       P  64881510    SPX           1  "
      ]
     },
     "execution_count": 43,
     "metadata": {},
     "output_type": "execute_result"
    }
   ],
   "source": [
    "data.head(10)"
   ]
  },
  {
   "cell_type": "code",
   "execution_count": 44,
   "id": "7e6b8918",
   "metadata": {},
   "outputs": [],
   "source": [
    "# Shape: (num_dates, num_tenors, num_deltas)\n",
    "vol_surface_matrix = data.set_index(\n",
    "    [\"date\", \"days\", \"delta\"]).impl_volatility.unstack().values.reshape(\n",
    "    num_dates, num_tenors, num_deltas)"
   ]
  },
  {
   "cell_type": "code",
   "execution_count": 48,
   "id": "f0da8e7d",
   "metadata": {},
   "outputs": [
    {
     "data": {
      "text/plain": [
       "(6545, 34, 11)"
      ]
     },
     "execution_count": 48,
     "metadata": {},
     "output_type": "execute_result"
    }
   ],
   "source": [
    "vol_surface_matrix.transpose(0,2,1).shape"
   ]
  },
  {
   "cell_type": "markdown",
   "id": "c9284fb8-e0c9-404f-afc6-855401f0fe2a",
   "metadata": {},
   "source": [
    "# Scale to 0-255 values"
   ]
  },
  {
   "cell_type": "code",
   "execution_count": 53,
   "id": "c894f77c-12ae-4762-b3f2-9c1f573573d2",
   "metadata": {},
   "outputs": [],
   "source": [
    "vol_surface_matrix /= (255/max_ivol)"
   ]
  },
  {
   "cell_type": "code",
   "execution_count": 49,
   "id": "4f008bb8",
   "metadata": {},
   "outputs": [
    {
     "data": {
      "text/plain": [
       "DatetimeIndex(['1996-01-04', '1996-01-05', '1996-01-08', '1996-01-09',\n",
       "               '1996-01-10', '1996-01-11', '1996-01-12', '1996-01-15',\n",
       "               '1996-01-16', '1996-01-17',\n",
       "               ...\n",
       "               '2021-12-17', '2021-12-20', '2021-12-21', '2021-12-22',\n",
       "               '2021-12-23', '2021-12-27', '2021-12-28', '2021-12-29',\n",
       "               '2021-12-30', '2021-12-31'],\n",
       "              dtype='datetime64[ns]', length=6545, freq=None)"
      ]
     },
     "execution_count": 49,
     "metadata": {},
     "output_type": "execute_result"
    }
   ],
   "source": [
    "dates = pd.to_datetime(unique_dates, format='%Y%m%d')\n",
    "dates"
   ]
  },
  {
   "cell_type": "code",
   "execution_count": 98,
   "id": "68010d72",
   "metadata": {},
   "outputs": [],
   "source": [
    "#Data is stored in a pandas dataframe with multiindex. df.loc[date] will give the 2d surface with tenors\n",
    "#in columns and deltas in rows\n",
    "\n",
    "midx = pd.MultiIndex.from_product([dates, unique_deltas])\n",
    "\n",
    "data = pd.DataFrame(index = midx, columns = unique_tenors, dtype='float')\n",
    "for i in range(len(dates)):\n",
    "    data.loc[dates[i]] = vol_surface_matrix[i].T"
   ]
  },
  {
   "cell_type": "code",
   "execution_count": 99,
   "id": "6a02a6ec",
   "metadata": {},
   "outputs": [],
   "source": [
    "data = data.interpolate(method = \"linear\", order = 1, limit_direction = \"both\")"
   ]
  },
  {
   "cell_type": "code",
   "execution_count": 101,
   "id": "74f9a674",
   "metadata": {},
   "outputs": [],
   "source": [
    "data = data.dropna()"
   ]
  },
  {
   "cell_type": "code",
   "execution_count": 104,
   "id": "c7b98f1a",
   "metadata": {},
   "outputs": [],
   "source": [
    "data.to_csv('processed_data/SPX.csv')"
   ]
  },
  {
   "cell_type": "code",
   "execution_count": null,
   "id": "831b5a0b",
   "metadata": {},
   "outputs": [],
   "source": []
  }
 ],
 "metadata": {
  "kernelspec": {
   "display_name": "Python 3 (ipykernel)",
   "language": "python",
   "name": "python3"
  },
  "language_info": {
   "codemirror_mode": {
    "name": "ipython",
    "version": 3
   },
   "file_extension": ".py",
   "mimetype": "text/x-python",
   "name": "python",
   "nbconvert_exporter": "python",
   "pygments_lexer": "ipython3",
   "version": "3.8.12"
  }
 },
 "nbformat": 4,
 "nbformat_minor": 5
}
