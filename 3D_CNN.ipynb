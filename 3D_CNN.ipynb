{
 "cells": [
  {
   "cell_type": "code",
   "execution_count": 1,
   "id": "8752be54-b9f5-4636-aab2-d2194b9e4c18",
   "metadata": {},
   "outputs": [],
   "source": [
    "import pandas as pd\n",
    "import numpy as np\n",
    "from matplotlib import pyplot as plt\n",
    "from pandas.plotting import autocorrelation_plot\n",
    "from IPython import display\n",
    "import duckdb"
   ]
  },
  {
   "cell_type": "code",
   "execution_count": 2,
   "id": "acfb10b4",
   "metadata": {},
   "outputs": [
    {
     "name": "stderr",
     "output_type": "stream",
     "text": [
      "/Applications/anaconda3/lib/python3.8/site-packages/statsmodels/compat/pandas.py:61: FutureWarning: pandas.Int64Index is deprecated and will be removed from pandas in a future version. Use pandas.Index with the appropriate dtype instead.\n",
      "  from pandas import Int64Index as NumericIndex\n"
     ]
    }
   ],
   "source": [
    "import datetime as dt\n",
    "from pandas.tseries.offsets import Day\n",
    "import statsmodels.api as sm\n",
    "from statsmodels.tsa.arima.model import ARIMA\n",
    "from statsmodels.graphics.tsaplots import plot_acf, plot_pacf\n",
    "from arch import arch_model\n",
    "from sklearn.metrics import mean_squared_error, r2_score\n",
    "from Utils import *"
   ]
  },
  {
   "cell_type": "code",
   "execution_count": 3,
   "id": "aad2d4e9",
   "metadata": {},
   "outputs": [],
   "source": [
    "import torch\n",
    "import torch.nn as nn\n",
    "from torchvision import models\n",
    "from torch import optim\n",
    "from torch.optim.lr_scheduler import CosineAnnealingLR, ReduceLROnPlateau"
   ]
  },
  {
   "cell_type": "markdown",
   "id": "626582b7",
   "metadata": {},
   "source": [
    "# Data Preprocessing"
   ]
  },
  {
   "cell_type": "code",
   "execution_count": 4,
   "id": "e5b1d0b6",
   "metadata": {},
   "outputs": [],
   "source": [
    "surfaces, targets = load_data(\"processed_data/SPX.csv\", \"data/VIX.csv\")"
   ]
  },
  {
   "cell_type": "code",
   "execution_count": 5,
   "id": "3f39b19d",
   "metadata": {},
   "outputs": [],
   "source": [
    "stacked_surfaces, stacked_targets, dates = stack_days(surfaces, targets, 20)"
   ]
  },
  {
   "cell_type": "code",
   "execution_count": 6,
   "id": "bec05ab7",
   "metadata": {},
   "outputs": [],
   "source": [
    "stacked_surfaces, stacked_targets_lagged, dates = lag_targets(stacked_surfaces, stacked_targets, 10, dates)"
   ]
  },
  {
   "cell_type": "code",
   "execution_count": 7,
   "id": "7540ddce",
   "metadata": {},
   "outputs": [],
   "source": [
    "surfaces_train, surfaces_test, targets_train, targets_test, train_dates, test_dates = train_test_split(\n",
    "    '2019', '2023', dates, stacked_surfaces, stacked_targets_lagged)"
   ]
  },
  {
   "cell_type": "code",
   "execution_count": 10,
   "id": "699b727b",
   "metadata": {},
   "outputs": [
    {
     "data": {
      "text/plain": [
       "(5754, 34, 11, 20)"
      ]
     },
     "execution_count": 10,
     "metadata": {},
     "output_type": "execute_result"
    }
   ],
   "source": [
    "surfaces_train.shape"
   ]
  },
  {
   "cell_type": "code",
   "execution_count": 8,
   "id": "bc266e66",
   "metadata": {},
   "outputs": [],
   "source": [
    "input_shape = surfaces_train[0].shape"
   ]
  },
  {
   "cell_type": "code",
   "execution_count": 11,
   "id": "3efbb0cd",
   "metadata": {},
   "outputs": [
    {
     "data": {
      "text/plain": [
       "(34, 11, 20)"
      ]
     },
     "execution_count": 11,
     "metadata": {},
     "output_type": "execute_result"
    }
   ],
   "source": [
    "input_shape"
   ]
  },
  {
   "cell_type": "code",
   "execution_count": null,
   "id": "f825f082",
   "metadata": {},
   "outputs": [],
   "source": []
  },
  {
   "cell_type": "markdown",
   "id": "ccd9b7a9",
   "metadata": {},
   "source": [
    "# Utility functions"
   ]
  },
  {
   "cell_type": "code",
   "execution_count": 9,
   "id": "980e2b6c",
   "metadata": {},
   "outputs": [],
   "source": [
    "def print_results(targets, targets_pred, lags):\n",
    "    \"\"\"\n",
    "    targets: (N,)\n",
    "    targets_pred: (L, N)\n",
    "    lags: (L,)\n",
    "    \"\"\"\n",
    "    print(\"-------------MSE-------------\")\n",
    "    for i, lag in enumerate(lags):\n",
    "        print(f'Lag-{lag} MSE: {mean_squared_error(targets, targets_pred[i])}')\n",
    "\n",
    "    print(\"-------------MAE-------------\")\n",
    "    for i, lag in enumerate(lags):\n",
    "        print(f'Lag-{lag} MAE: {np.mean(np.abs(targets - targets_pred[i]))}')\n",
    "\n",
    "    print(\"-------------R2--------------\")\n",
    "    for i, lag in enumerate(lags):\n",
    "        print(f'Lag-{lag} R2: {r2_score(targets, targets_pred[i])}')\n",
    "\n",
    "    print(\"-----------AE STD------------\")\n",
    "    for i, lag in enumerate(lags):\n",
    "        print(f'Lag-{lag} AE std: {np.std(np.abs(targets - targets_pred[i]))}')"
   ]
  },
  {
   "cell_type": "markdown",
   "id": "a649ef9d",
   "metadata": {},
   "source": [
    "# 3D CNN"
   ]
  },
  {
   "cell_type": "code",
   "execution_count": null,
   "id": "da522556",
   "metadata": {},
   "outputs": [],
   "source": [
    "learning_rate = 1e-3\n",
    "\n",
    "in_channel, in_dim = 3, 32"
   ]
  },
  {
   "cell_type": "code",
   "execution_count": null,
   "id": "d289de11",
   "metadata": {},
   "outputs": [],
   "source": [
    "learning_rate = 1e-3\n",
    "in_channel, in_dim = 3, 32\n",
    "num_classes = 10\n",
    "# channel_1, channel_2, channel_3 = 64, 128, 256\n",
    "channel_1, channel_2, channel_3 = 128, 256, 512\n",
    "kernel_size_1, kernel_size_2, kernel_size_3 = 5, 3, 3\n",
    "dropout_rate = 0.2\n",
    "\n",
    "model = nn.Sequential(\n",
    "    ## 1. conv-batchnorm-relu-pool\n",
    "    nn.Conv2d(in_channel, channel_1, kernel_size_1, padding=\"same\"),\n",
    "    nn.BatchNorm2d(channel_1),\n",
    "    nn.ReLU(),\n",
    "    nn.MaxPool2d(2),\n",
    "    ## 2. conv-batchnorm-relu-pool\n",
    "    nn.Conv2d(channel_1, channel_2, kernel_size_2, padding=\"same\"),\n",
    "    nn.BatchNorm2d(channel_2),\n",
    "    nn.ReLU(),\n",
    "    nn.MaxPool2d(2),\n",
    "    ## 3. conv-batchnorm-relu-pool-dropout\n",
    "    nn.Conv2d(channel_2, channel_3, kernel_size_3, padding=\"same\"),\n",
    "    nn.BatchNorm2d(channel_3),\n",
    "    nn.ReLU(),\n",
    "    nn.Dropout(dropout_rate),\n",
    "    ## 4. Fully-connected\n",
    "    nn.Flatten(),\n",
    "    nn.Linear(channel_3*(in_dim//4)**2, num_classes)\n",
    ")\n",
    "\n",
    "optimizer = optim.Adam(model.parameters(), lr=learning_rate)\n",
    "train_part34(model, optimizer, epochs=10)\n",
    "\n",
    "def train_part34(model, optimizer, epochs=1):\n",
    "    model = model.to(device=device)  # move the model parameters to CPU/GPU\n",
    "    for e in range(epochs):\n",
    "        for t, (x, y) in enumerate(loader_train):\n",
    "            model.train()  # put model to training mode\n",
    "            x = x.to(device=device, dtype=dtype)  # move to device, e.g. GPU\n",
    "            y = y.to(device=device, dtype=torch.long)\n",
    "\n",
    "            scores = model(x)\n",
    "            loss = F.cross_entropy(scores, y)\n",
    "\n",
    "            # Zero out all of the gradients for the variables which the optimizer\n",
    "            # will update.\n",
    "            optimizer.zero_grad()\n",
    "\n",
    "            # This is the backwards pass: compute the gradient of the loss with\n",
    "            # respect to each  parameter of the model.\n",
    "            loss.backward()\n",
    "\n",
    "            # Actually update the parameters of the model using the gradients\n",
    "            # computed by the backwards pass.\n",
    "            optimizer.step()\n",
    "\n",
    "            if t % print_every == 0:\n",
    "                print('Iteration %d, loss = %.4f' % (t, loss.item()))\n",
    "                check_accuracy_part34(loader_val, model)\n",
    "                print()"
   ]
  },
  {
   "cell_type": "code",
   "execution_count": null,
   "id": "b6a0abd5",
   "metadata": {},
   "outputs": [],
   "source": [
    "class LSTM(nn.Module):\n",
    "\n",
    "    def __init__(self, num_classes, input_size, hidden_size, num_layers):\n",
    "        super(LSTM, self).__init__()\n",
    "        \n",
    "        self.num_classes = num_classes\n",
    "        self.num_layers = num_layers\n",
    "        self.input_size = input_size\n",
    "        self.hidden_size = hidden_size\n",
    "        self.seq_length = seq_length\n",
    "        \n",
    "        self.lstm = nn.LSTM(input_size=input_size, hidden_size=hidden_size,\n",
    "                            num_layers=num_layers, batch_first=True)\n",
    "        \n",
    "        self.fc = nn.Linear(hidden_size, num_classes)\n",
    "\n",
    "    def forward(self, x):\n",
    "        h_0 = Variable(torch.zeros(\n",
    "            self.num_layers, x.size(0), self.hidden_size))\n",
    "        \n",
    "        c_0 = Variable(torch.zeros(\n",
    "            self.num_layers, x.size(0), self.hidden_size))\n",
    "        \n",
    "        # Propagate input through LSTM\n",
    "        ula, (h_out, _) = self.lstm(x, (h_0, c_0))\n",
    "        \n",
    "        h_out = h_out.view(-1, self.hidden_size)\n",
    "        \n",
    "        out = self.fc(h_out)\n",
    "        \n",
    "        return out"
   ]
  }
 ],
 "metadata": {
  "kernelspec": {
   "display_name": "Python 3 (ipykernel)",
   "language": "python",
   "name": "python3"
  },
  "language_info": {
   "codemirror_mode": {
    "name": "ipython",
    "version": 3
   },
   "file_extension": ".py",
   "mimetype": "text/x-python",
   "name": "python",
   "nbconvert_exporter": "python",
   "pygments_lexer": "ipython3",
   "version": "3.8.3"
  }
 },
 "nbformat": 4,
 "nbformat_minor": 5
}
